{
 "cells": [
  {
   "cell_type": "code",
   "execution_count": 146,
   "id": "76bc83dc-72d6-471e-be74-252a257c6a65",
   "metadata": {},
   "outputs": [],
   "source": [
    "import numpy as np\n",
    "import matplotlib.pyplot as plt"
   ]
  },
  {
   "cell_type": "markdown",
   "id": "90e2880e-3dca-4a46-81e6-8384346895c5",
   "metadata": {},
   "source": [
    "# Original Model"
   ]
  },
  {
   "cell_type": "code",
   "execution_count": 179,
   "id": "4606cc95-4fce-4e95-8a96-ed47d9ba6a20",
   "metadata": {},
   "outputs": [],
   "source": [
    "N = 30\n",
    "C = np.linspace(-3, 3, N) ** 3"
   ]
  },
  {
   "cell_type": "code",
   "execution_count": 180,
   "id": "f6b050ef-eaef-4993-ae3d-206f5a93151d",
   "metadata": {},
   "outputs": [],
   "source": [
    "x01 = np.linspace(0, 10, N) + 2*C\n",
    "x02 = x01 + 2 * x01 - C\n",
    "y0 = x01**2 + x02 + C"
   ]
  },
  {
   "cell_type": "code",
   "execution_count": 181,
   "id": "292c80fb-0ba6-48d6-bee6-41370cdb8a5a",
   "metadata": {},
   "outputs": [
    {
     "data": {
      "image/png": "[encoded data removed]",
      "text/plain": [
       "<Figure size 432x288 with 1 Axes>"
      ]
     },
     "metadata": {
      "needs_background": "light"
     },
     "output_type": "display_data"
    }
   ],
   "source": [
    "plt.plot(x01, y0, 'k.')\n",
    "plt.xlabel(\"x1\")\n",
    "plt.ylabel(\"y\")\n",
    "plt.show()"
   ]
  },
  {
   "cell_type": "code",
   "execution_count": 182,
   "id": "a7075054-b563-468a-9876-81eab14f9354",
   "metadata": {},
   "outputs": [
    {
     "data": {
      "image/png": "[encoded data removed]",
      "text/plain": [
       "<Figure size 432x288 with 1 Axes>"
      ]
     },
     "metadata": {
      "needs_background": "light"
     },
     "output_type": "display_data"
    }
   ],
   "source": [
    "plt.plot(x02, y0, 'k.')\n",
    "plt.xlabel(\"x2\")\n",
    "plt.ylabel(\"y\")\n",
    "plt.show()"
   ]
  },
  {
   "cell_type": "code",
   "execution_count": 183,
   "id": "d6e5e822-6c0a-4b6e-b7fe-ce59559da296",
   "metadata": {},
   "outputs": [
    {
     "data": {
      "image/png": "[encoded data removed]",
      "text/plain": [
       "<Figure size 432x288 with 1 Axes>"
      ]
     },
     "metadata": {
      "needs_background": "light"
     },
     "output_type": "display_data"
    }
   ],
   "source": [
    "plt.plot(x01, x02, 'k.')\n",
    "plt.xlabel(\"x1\")\n",
    "plt.ylabel(\"x2\")\n",
    "plt.show()"
   ]
  },
  {
   "cell_type": "markdown",
   "id": "e3a55090-b99b-4980-92ed-a2fe297db360",
   "metadata": {},
   "source": [
    "So, there is likely a path x1 -- x2 or a counfounder of the two or a confounder of y or both."
   ]
  },
  {
   "cell_type": "markdown",
   "id": "717a547c-46c1-40b0-8496-53cd929db54a",
   "metadata": {},
   "source": [
    "# ACE"
   ]
  },
  {
   "cell_type": "markdown",
   "id": "a2ecb51a-e950-40fc-9d07-7dab4ab85a9d",
   "metadata": {},
   "source": [
    "ACE = P(y | do(X2 = a)) - P(y | do(X2 = b))"
   ]
  },
  {
   "cell_type": "code",
   "execution_count": 199,
   "id": "05a3e630-329f-4705-8ab2-4342094d2096",
   "metadata": {},
   "outputs": [],
   "source": [
    "a = np.linspace(0, 10, N)\n",
    "b = 0\n",
    "\n",
    "x11 = x01\n",
    "x12a = a\n",
    "x12b = [b] * N\n",
    "\n",
    "y1a = x11**2 + x12a + C\n",
    "y1b = x11**2 + x12b + C"
   ]
  },
  {
   "cell_type": "code",
   "execution_count": 200,
   "id": "6e966c80-0afe-4af0-8277-56a39f4b6997",
   "metadata": {},
   "outputs": [
    {
     "data": {
      "text/plain": [
       "array([ 0.        ,  0.34482759,  0.68965517,  1.03448276,  1.37931034,\n",
       "        1.72413793,  2.06896552,  2.4137931 ,  2.75862069,  3.10344828,\n",
       "        3.44827586,  3.79310345,  4.13793103,  4.48275862,  4.82758621,\n",
       "        5.17241379,  5.51724138,  5.86206897,  6.20689655,  6.55172414,\n",
       "        6.89655172,  7.24137931,  7.5862069 ,  7.93103448,  8.27586207,\n",
       "        8.62068966,  8.96551724,  9.31034483,  9.65517241, 10.        ])"
      ]
     },
     "execution_count": 200,
     "metadata": {},
     "output_type": "execute_result"
    }
   ],
   "source": [
    "ace = y1a - y1b\n",
    "ace"
   ]
  },
  {
   "cell_type": "markdown",
   "id": "0e00a520-d6cb-4bf5-a2a2-69519173c738",
   "metadata": {},
   "source": [
    "The effects of x1 and the confounder C cancel each other. We recover the true effect of x2."
   ]
  },
  {
   "cell_type": "code",
   "execution_count": 201,
   "id": "2a57e454-9245-4dd2-b449-30857614d32a",
   "metadata": {},
   "outputs": [
    {
     "data": {
      "image/png": "[encoded data removed]",
      "text/plain": [
       "<Figure size 432x288 with 1 Axes>"
      ]
     },
     "metadata": {
      "needs_background": "light"
     },
     "output_type": "display_data"
    }
   ],
   "source": [
    "plt.plot(a, ace, 'k.')\n",
    "plt.xlabel(\"a\")\n",
    "plt.ylabel(\"ACE\")\n",
    "plt.show()"
   ]
  },
  {
   "cell_type": "code",
   "execution_count": null,
   "id": "000f6c68-556d-4051-b0ad-97e1ef4a0397",
   "metadata": {},
   "outputs": [],
   "source": []
  }
 ],
 "metadata": {
  "kernelspec": {
   "display_name": "Python 3 (ipykernel)",
   "language": "python",
   "name": "python3"
  },
  "language_info": {
   "codemirror_mode": {
    "name": "ipython",
    "version": 3
   },
   "file_extension": ".py",
   "mimetype": "text/x-python",
   "name": "python",
   "nbconvert_exporter": "python",
   "pygments_lexer": "ipython3",
   "version": "3.9.12"
  }
 },
 "nbformat": 4,
 "nbformat_minor": 5
}
